{
 "cells": [
  {
   "cell_type": "markdown",
   "metadata": {},
   "source": [
    "# Practical 7 - Part 1A(Mingzhou Hu)\n",
    "The aim of part 1A is to calculate the homography that best maps two sets of points to one another.  We will (eventually) use this for creating panoramas, and for calculating the 3D pose of planes.  You should use this\n",
    "template for your code and fill in the missing sections marked \"TO DO\"\n"
   ]
  },
  {
   "cell_type": "markdown",
   "metadata": {},
   "source": [
    "# Import libraries "
   ]
  },
  {
   "cell_type": "code",
   "execution_count": 1,
   "metadata": {},
   "outputs": [],
   "source": [
    "%matplotlib inline\n",
    "import os \n",
    "import numpy as np\n",
    "import matplotlib.pyplot as plt\n",
    "import scipy.io as sio"
   ]
  },
  {
   "cell_type": "markdown",
   "metadata": {},
   "source": [
    "# Define a set of 2D points, then apply a homography to them"
   ]
  },
  {
   "cell_type": "code",
   "execution_count": 2,
   "metadata": {},
   "outputs": [],
   "source": [
    "# Define a set of two-dimensional Cartesian points\n",
    "pts1Cart = np.array([[240.5000, 16.8351, 33.5890, 164.2696, 149.1911],\n",
    "                    [248.8770, 193.5890, 251.3901, 168.4581, 228.7723]])\n",
    "\n",
    "# Convert points into homogeneous representation\n",
    "pts1Hom = np.concatenate((pts1Cart, np.ones((1,pts1Cart.shape[1]))), axis=0)\n",
    "#print (pts1Hom.shape)\n",
    "\n",
    "# Define a homography\n",
    "H = np.array([[0.6, 0.7, -100.],\n",
    "              [1.0, 0.6, 50.],\n",
    "              [0.001, 0.002, 1.0]])\n",
    "\n",
    "# Apply a homography to the points\n",
    "pts2Hom = np.matmul(H,pts1Hom)\n",
    "\n",
    "# Convert back to Cartesian coordinates\n",
    "pts2Cart = pts2Hom[0:2,:] / np.tile([pts2Hom[2,:]],(2,1))\n",
    "\n",
    "# Add a small amount of noise\n",
    "noiseLevel = 4.0\n",
    "pts2Cart = pts2Cart + np.random.normal(0, noiseLevel, pts2Cart.shape)"
   ]
  },
  {
   "cell_type": "markdown",
   "metadata": {},
   "source": [
    "# Plot the first (original) and  second (after applying the homography) set of points "
   ]
  },
  {
   "cell_type": "code",
   "execution_count": 3,
   "metadata": {},
   "outputs": [
    {
     "data": {
      "image/png": "[encoded data removed]",
      "text/plain": [
       "<Figure size 432x288 with 1 Axes>"
      ]
     },
     "metadata": {
      "needs_background": "light"
     },
     "output_type": "display_data"
    }
   ],
   "source": [
    "# Plot a green line between pairs of actual points (red) and estimated points (magenta)\n",
    "nPoint = pts1Cart.shape[1]\n",
    "for cPoint in range(0, nPoint):\n",
    "    plt.plot([pts1Cart[0,cPoint], pts2Cart[0,cPoint]], [pts1Cart[1,cPoint], pts2Cart[1,cPoint]],'g-')\n",
    "    plt.plot(pts1Cart[0,cPoint],pts1Cart[1,cPoint],'b.', pts2Cart[0,cPoint],pts2Cart[1,cPoint],'r.') \n",
    "\n",
    "plt.show()"
   ]
  },
  {
   "cell_type": "markdown",
   "metadata": {},
   "source": [
    "Now our goal is to estimate the homography that maps the first points to the second set of points.\n",
    "\n",
    "# ****TO DO****: Fill in the details of these routines (solveAXEqualsZero and calcBestHomography). "
   ]
  },
  {
   "cell_type": "code",
   "execution_count": 4,
   "metadata": {},
   "outputs": [],
   "source": [
    "def solveAXEqualsZero(A):\n",
    "    # TO DO: Write this routine - it should solve Ah = 0\n",
    "    # A=UL(V.T)\n",
    "    # Suppose A is a i by j matrix, the u will be a i by i matrix, s will be a i by j matrix and\n",
    "    # v will be a j by j matrix.\n",
    "    u,s,v=np.linalg.svd(A)\n",
    "    # Take last column of v\n",
    "    v=v.T\n",
    "    h=v[:,-1]\n",
    "    return h"
   ]
  },
  {
   "cell_type": "code",
   "execution_count": 5,
   "metadata": {},
   "outputs": [],
   "source": [
    "# This function should apply the direct linear transform (DLT) algorithm to calculate the best \n",
    "# homography that maps the points in pts1Cart to their corresonding matching in pts2Cart\n",
    "def calcBestHomography(pts1Cart, pts2Cart):    \n",
    "    # TO DO: replace this\n",
    "    H = []\n",
    "\n",
    "    # TO DO: \n",
    "    # First convert points into homogeneous representation\n",
    "    pts1Hom = np.concatenate((pts1Cart, np.ones((1,pts1Cart.shape[1]))), axis=0)\n",
    "    pts2Hom = np.concatenate((pts2Cart, np.ones((1,pts2Cart.shape[1]))), axis=0)\n",
    "    \n",
    "    # Then construct the matrix A, size (n_points,9)\n",
    "    n_points=2*pts1Hom.shape[1]\n",
    "    A=np.zeros((n_points,9))\n",
    "    for i in range(5):\n",
    "        u_v_1=pts1Hom[:,i]\n",
    "        x_y_1=pts2Hom[:,i]\n",
    "        A[2*i,:]=np.hstack(([0,0,0],-u_v_1,x_y_1[1]*u_v_1))\n",
    "        A[2*i+1,:]=np.hstack((u_v_1,[0,0,0],-x_y_1[0]*u_v_1))\n",
    "    \n",
    "    # Solve Ah = 0\n",
    "    h=solveAXEqualsZero(A)\n",
    "\n",
    "    # Reshape h into the matrix H, values of h go first into rows of H\n",
    "    H=np.reshape(h,(3,3))\n",
    "    \n",
    "    return H"
   ]
  },
  {
   "cell_type": "markdown",
   "metadata": {},
   "source": [
    "Once you have completed the two routines above, we will see how well they work by applying the mapping and measuring the square distance between the desired and actual positions"
   ]
  },
  {
   "cell_type": "code",
   "execution_count": 6,
   "metadata": {},
   "outputs": [
    {
     "data": {
      "image/png": "[encoded data removed]",
      "text/plain": [
       "<Figure size 432x288 with 1 Axes>"
      ]
     },
     "metadata": {
      "needs_background": "light"
     },
     "output_type": "display_data"
    }
   ],
   "source": [
    "# TO DO: Fill in the details of this function from above \n",
    "HEst = calcBestHomography(pts1Cart, pts2Cart)\n",
    "\n",
    "# Apply estimated homography to points\n",
    "pts2EstHom = np.matmul(HEst,pts1Hom)\n",
    "\n",
    "# Convert back to Cartesian coordinates\n",
    "pts2EstCart = pts2EstHom[0:2,:] / np.tile([pts2EstHom[2,:]],(2,1))\n",
    "\n",
    "# Calculate the mean squared distance from actual points\n",
    "sqDiff = np.mean(sum((pts2Cart - pts2EstCart)**2))\n",
    "\n",
    "# Draw figure with points before and after applying the estimated homography\n",
    "nPoint = pts1Cart.shape[1]\n",
    "\n",
    "# Plot a green line between pairs of actual points (red) and estimated points (magenta)\n",
    "for cPoint in range(0, nPoint):\n",
    "    plt.plot([pts2Cart[0,cPoint], pts2EstCart[0,cPoint]], [pts2Cart[1,cPoint], pts2EstCart[1,cPoint]],'g-')\n",
    "    plt.plot(pts2Cart[0,cPoint],pts2Cart[1,cPoint],'r.',pts2EstCart[0,cPoint],pts2EstCart[1,cPoint],'m.') \n",
    "\n",
    "plt.show()"
   ]
  },
  {
   "cell_type": "markdown",
   "metadata": {},
   "source": [
    "The figure above shows the first points(pts2Cart) and the second set of points(pts2EstCart). After mapping, the first pionts  and the second points become closer to each other. The distance between the first points and the seconds points just beacauce we added a small amount of noise."
   ]
  },
  {
   "cell_type": "markdown",
   "metadata": {},
   "source": [
    "# Other things **** TO DO ****\n",
    "\n",
    "1: Convince yourself that the homography is ambiguous up to scale (by\n",
    "multiplying it by a constant factor and showing it does the same thing).\n",
    "Can you see why this is the case mathematically?\n",
    "\n",
    "2: Show empirically that your homography routine can map any four points exactly to any\n",
    "other four points"
   ]
  },
  {
   "cell_type": "markdown",
   "metadata": {},
   "source": [
    "1: Homogeneous:\n",
    "\n",
    "$\\lambda\\begin{bmatrix}\n",
    "x\\\\ y\n",
    "\\\\ 1\n",
    "\\end{bmatrix}=\\begin{bmatrix}\n",
    " \\phi_{11}&\\phi_{12} &\\phi_{13} \\\\ \n",
    " \\phi_{21}&\\phi_{22} &\\phi_{23}\\\\ \n",
    " \\phi_{31}&\\phi_{32} &\\phi_{33}\n",
    "\\end{bmatrix}\\begin{bmatrix}\n",
    "u\\\\v\n",
    "\\\\1\n",
    "\\end{bmatrix}$\n",
    "   \n",
    "   Cartesian:\n",
    "   \n",
    "   $x=\\frac{\\phi_{11}u+\\phi_{12}v+\\phi_{13}}{\\phi_{31}u+\\phi_{32}v+\\phi_{33}}$\n",
    "   \n",
    "   $y=\\frac{\\phi_{21}u+\\phi_{22}v+\\phi_{23}}{\\phi_{31}u+\\phi_{32}v+\\phi_{33}}$"
   ]
  },
  {
   "cell_type": "markdown",
   "metadata": {},
   "source": [
    "2: The distance between the first points and the seconds points just beacauce we add a small amount of noise. If we remove the noise, the distance between them will disappear and the homography routine can map any four points exactly to any other four points.\n",
    "\n",
    "$x=hom[w,\\phi]$\n",
    "\n",
    "$\\widetilde{x}\\times \\phi\\widetilde{w}=0$\n",
    "\n",
    "Write out these equations in full\n",
    "\n",
    "$\\begin{bmatrix}\n",
    "y(\\phi_{31}u+\\phi_{32}v+\\phi_{33})-(\\phi_{21}u+\\phi_{22}v+\\phi_{23})\\\\(\\phi_{11}u+\\phi_{12}v+\\phi_{13})-x(\\phi_{11}u+\\phi_{32}v+\\phi_{33})\n",
    "\\\\x(\\phi_{21}u+\\phi_{22}v+\\phi_{23})-y(\\phi_{11}u+\\phi_{12}v+\\phi_{13})\n",
    "\\end{bmatrix}=0$\n",
    "\n",
    "There are only 2 independent equations here, so we need use a minimum of fours points to build up a set of equations."
   ]
  }
 ],
 "metadata": {
  "kernelspec": {
   "display_name": "Python 3",
   "language": "python",
   "name": "python3"
  },
  "language_info": {
   "codemirror_mode": {
    "name": "ipython",
    "version": 3
   },
   "file_extension": ".py",
   "mimetype": "text/x-python",
   "name": "python",
   "nbconvert_exporter": "python",
   "pygments_lexer": "ipython3",
   "version": "3.7.0"
  }
 },
 "nbformat": 4,
 "nbformat_minor": 1
}
