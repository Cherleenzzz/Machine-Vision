{
 "cells": [
  {
   "cell_type": "markdown",
   "metadata": {},
   "source": [
    "# Practical 7 - Part 2A(Mingzhou Hu)\n",
    "This project explores the geometry of a single camera. The aim is to take several points on\n",
    "a plane, and predict where they will appear in the camera image. Based on these observed\n",
    "points, we will then try to re-estimate the Euclidean transformation relating the plane and\n",
    "the camera. In practical 2B we will use this code to draw a wireframe cube\n",
    "on an augmented reality marker.   You should use this\n",
    "template for your code and fill in the missing sections marked \"TO DO\""
   ]
  },
  {
   "cell_type": "markdown",
   "metadata": {},
   "source": [
    "# Import libraries "
   ]
  },
  {
   "cell_type": "code",
   "execution_count": 1,
   "metadata": {},
   "outputs": [],
   "source": [
    "%matplotlib inline\n",
    "import os \n",
    "import numpy as np\n",
    "import matplotlib.pyplot as plt\n",
    "import scipy.io as sio"
   ]
  },
  {
   "cell_type": "markdown",
   "metadata": {},
   "source": [
    "# TO DO - fill in projectiveCamera and estimatePlanePose functions  (you will have to utilise your solutions for solveAXEqualsZero and calcBestHomography from Part 1)"
   ]
  },
  {
   "cell_type": "code",
   "execution_count": 2,
   "metadata": {},
   "outputs": [],
   "source": [
    "def solveAXEqualsZero(A):\n",
    "    # TO DO: Write this routine - it should solve Ah = 0\n",
    "    # A=UL(V.T)\n",
    "    # Suppose A is a i by j matrix, the u will be a i by i matrix, s will be a i by j matrix and\n",
    "    # v will be a j by j matrix.\n",
    "    u,s,v=np.linalg.svd(A)\n",
    "    # Take last column of v\n",
    "    v=v.T\n",
    "    h=v[:,-1]\n",
    "    return h"
   ]
  },
  {
   "cell_type": "code",
   "execution_count": 3,
   "metadata": {},
   "outputs": [],
   "source": [
    "# This function should apply the direct linear transform (DLT) algorithm to calculate the best \n",
    "# homography that maps the points in pts1Cart to their corresonding matching in pts2Cart\n",
    "def calcBestHomography(pts1Cart, pts2Cart):    \n",
    "    # TO DO: replace this\n",
    "    H = []\n",
    "\n",
    "    # TO DO: \n",
    "    # First convert points into homogeneous representation\n",
    "    pts1Hom = np.concatenate((pts1Cart, np.ones((1,pts1Cart.shape[1]))), axis=0)\n",
    "    pts2Hom = np.concatenate((pts2Cart, np.ones((1,pts2Cart.shape[1]))), axis=0)\n",
    "    \n",
    "    # Then construct the matrix A, size (n_points,9)\n",
    "    n_points=2*pts1Hom.shape[1]\n",
    "    A=np.zeros((n_points,9))\n",
    "    for i in range(5):\n",
    "        u_v_1=pts1Hom[:,i]\n",
    "        x_y_1=pts2Hom[:,i]\n",
    "        A[2*i,:]=np.hstack(([0,0,0],-u_v_1,x_y_1[1]*u_v_1))\n",
    "        A[2*i+1,:]=np.hstack((u_v_1,[0,0,0],-x_y_1[0]*u_v_1))\n",
    "    \n",
    "    # Solve Ah = 0\n",
    "    h=solveAXEqualsZero(A)\n",
    "\n",
    "    # Reshape h into the matrix H, values of h go first into rows of H\n",
    "    H=np.reshape(h,(3,3))\n",
    "    \n",
    "    return H"
   ]
  },
  {
   "cell_type": "code",
   "execution_count": 4,
   "metadata": {},
   "outputs": [],
   "source": [
    "#The goal of this function is to project points in XCart through projective camera\n",
    "#defined by intrinsic matrix K and extrinsic matrix T.\n",
    "def projectiveCamera(K,T,XCart):\n",
    "    \n",
    "    # TO DO: Replace this\n",
    "    # XImCart =\n",
    "\n",
    "    # TO DO: Convert Cartesian 3d points XCart to homogeneous coordinates XHom\n",
    "    XHom = np.concatenate((XCart, np.ones((1,XCart.shape[1]))), axis=0)\n",
    "    \n",
    "    # TO DO: Apply extrinsic matrix to XHom, to move to frame of reference of camera\n",
    "    XCamHom=np.matmul(T,XHom)\n",
    "    \n",
    "    # TO DO: Project points into normalized camera coordinates xCamHom (remove 4th row)\n",
    "    XCamHom_normal=XCamHom[:-1,:]\n",
    "    \n",
    "    # TO DO: Move points to image coordinates xImHom by applying intrinsic matrix\n",
    "    XImHom=np.matmul(K,XCamHom_normal)\n",
    "    \n",
    "    # TO DO: Convert points back to Cartesian coordinates xImCart\n",
    "    XImCart=XImHom[0:2,:] / np.tile([XImHom[2,:]],(2,1))\n",
    "    \n",
    "    return XImCart\n"
   ]
  },
  {
   "cell_type": "code",
   "execution_count": 5,
   "metadata": {},
   "outputs": [],
   "source": [
    "# Goal of function is to estimate pose of plane relative to camera (extrinsic matrix)\n",
    "# given points in image xImCart, points in world XCart and intrinsic matrix K\n",
    "\n",
    "def estimatePlanePose(XImCart,XCart,K):\n",
    "\n",
    "    # TO DO: replacH[:,:2]e this\n",
    "    # T = \n",
    "\n",
    "    # TO DO: Convert Cartesian image points XImCart to homogeneous representation XImHom\n",
    "    XImHom = np.concatenate((XImCart, np.ones((1,XImCart.shape[1]))), axis=0)\n",
    "    \n",
    "    # TO DO: Convert image co-ordinates XImHom to normalized camera coordinates XCamHom    \n",
    "    XCamHom=np.matmul(np.linalg.inv(K),XImHom)\n",
    "    \n",
    "    # TO DO: Estimate homography H mapping homogeneous (x,y) coordinates of positions\n",
    "    # in real world to XCamHom (convert XCamHom to Cartesian, calculate the homography) -\n",
    "    # use the routine you wrote for Practical 1B\n",
    "    XCamCart = XCamHom[0:2,:] / np.tile([XCamHom[2,:]],(2,1))\n",
    "    \n",
    "    XCart=XCart[:-1,:]\n",
    "    H=calcBestHomography(XCart, XCamCart)\n",
    "          \n",
    "    # TO DO: Estimate first two columns of rotation matrix R from the first two\n",
    "    # columns of H using the SVD \n",
    "    u,s,v=np.linalg.svd(H[:,:2])\n",
    "    L=np.array([[1,0],\n",
    "                [0,1],\n",
    "                [0,0]])\n",
    "    # U*L*V.T\n",
    "    R12=np.matmul(np.matmul(u,L),v)\n",
    "\n",
    "\n",
    "    # TO DO: Estimate the third column of the rotation matrix by taking the cross\n",
    "    # product of the first two columns\n",
    "    R3=np.cross(R12[:,0],R12[:,1])\n",
    "    R3=R3.reshape((3,1))\n",
    "   \n",
    "        \n",
    "    # TO DO: Check that the determinant of the rotation matrix is positive - if\n",
    "    # not then multiply last column by -1.\n",
    "    R=np.hstack((R12,R3))\n",
    "    if np.linalg.det(R)<=0:\n",
    "        R[:,-1]=-1*R[:,-1]\n",
    "\n",
    "    # TO DO: Estimate the translation t by finding the appropriate scaling factor k\n",
    "    # and applying it to the third colulmn of H\n",
    "    k=np.sum(H[:,:2]/R[:,:2])/6\n",
    "    t=H[:,2]/k \n",
    "    t=t.reshape((3,1))\n",
    "    \n",
    "    # TO DO: Check whether t_z is negative - if it is then multiply t by -1 and\n",
    "    # the first two columns of R by -1.\n",
    "    if t[2,:] < 0:\n",
    "        t= t*-1\n",
    "        R[:,:2] = R[:,:2] * -1\n",
    "            \n",
    "    # TO DO: Assemble transformation into matrix form\n",
    "    T=np.hstack((R,t))\n",
    "\n",
    "    return T "
   ]
  },
  {
   "cell_type": "markdown",
   "metadata": {},
   "source": [
    "# Once you have completed these functions, use them to estimate the transformation from the plane co-ordinate system to the camera co-ordinate system (i.e. the extrinsic matrix)"
   ]
  },
  {
   "cell_type": "code",
   "execution_count": 6,
   "metadata": {},
   "outputs": [],
   "source": [
    "# We assume that the intrinsic camera matrix K is known and has values\n",
    "K = np.array([[640, 0, 320],\n",
    "             [0, 640, 240],\n",
    "             [0, 0, 1]])\n",
    "\n",
    "# We will assume an object co-ordinate system with the Z-axis pointing upwards and the origin\n",
    "# in the centre of the plane. There are four known points on the plane with coordinates (mm):\n",
    "XCart = np.array([[-100, -100,  100,  100, 0],\n",
    "                  [-100,  100,  100, -100, 0],\n",
    "                  [   0,    0,    0,    0, 0]])\n",
    "\n",
    "# We assume the correct transformation from the plane co-ordinate system to the\n",
    "# camera co-ordinate system (extrinsic matrix) is:\n",
    "T = np.array([[0.9851,  -0.0492,  0.1619,  46.00],\n",
    "             [-0.1623,  -0.5520,  0.8181,  70.00],\n",
    "             [0.0490,  -0.8324, -0.5518,  500.89],\n",
    "             [0,        0,       0,       1]])\n",
    "  \n",
    "# TO DO: Use the general pin-hole projective camera model discussed in the lectures to estimate \n",
    "# where the four points on the plane will appear in the image.  Fill in the\n",
    "# details of the function \"projectiveCamera\" - body of function appears below:\n",
    "\n",
    "XImCart=projectiveCamera(K,T,XCart)\n",
    "\n",
    "# TO DO: Add noise (standard deviation of one pixel in each direction) to the pixel positions\n",
    "# to simulate having to find these points in a noisy image. Store the results back in xImCart\n",
    "XImCart=XImCart+np.random.normal(0, 3, XImCart.shape)\n",
    "\n",
    "\n",
    "# TO DO: Now we will take the image points and the known positions on the card and estimate  \n",
    "# the extrinsic matrix using the algorithm discussed in the lecture.  Fill in the details of \n",
    "# the function \"estimate plane pose\"\n",
    "TEst=estimatePlanePose(XImCart,XCart,K)\n",
    "\n",
    "# If you have got this correct, Test should closely resemble T above"
   ]
  },
  {
   "cell_type": "code",
   "execution_count": 7,
   "metadata": {},
   "outputs": [
    {
     "data": {
      "text/plain": [
       "array([[ 9.8510e-01, -4.9200e-02,  1.6190e-01,  4.6000e+01],\n",
       "       [-1.6230e-01, -5.5200e-01,  8.1810e-01,  7.0000e+01],\n",
       "       [ 4.9000e-02, -8.3240e-01, -5.5180e-01,  5.0089e+02],\n",
       "       [ 0.0000e+00,  0.0000e+00,  0.0000e+00,  1.0000e+00]])"
      ]
     },
     "execution_count": 7,
     "metadata": {},
     "output_type": "execute_result"
    }
   ],
   "source": [
    "T"
   ]
  },
  {
   "cell_type": "code",
   "execution_count": 8,
   "metadata": {},
   "outputs": [
    {
     "data": {
      "text/plain": [
       "array([[ 9.87848111e-01, -1.38459646e-01,  7.06047933e-02,\n",
       "         3.97009137e+01],\n",
       "       [-1.36327639e-01, -5.53759388e-01,  8.21440999e-01,\n",
       "         6.47564499e+01],\n",
       "       [-7.46383630e-02, -8.21084324e-01, -5.65906042e-01,\n",
       "         4.54275818e+02]])"
      ]
     },
     "execution_count": 8,
     "metadata": {},
     "output_type": "execute_result"
    }
   ],
   "source": [
    "TEst"
   ]
  },
  {
   "cell_type": "markdown",
   "metadata": {},
   "source": [
    "The goal in this practice is to estimate extrinsic matrix. If the values in TEst are closer to those in T, it can illustrate that the estimation is more accurate. We can see from the above outputs, it clear that TEst and T are very similar, so our estimation is accurate."
   ]
  }
 ],
 "metadata": {
  "kernelspec": {
   "display_name": "Python 3",
   "language": "python",
   "name": "python3"
  },
  "language_info": {
   "codemirror_mode": {
    "name": "ipython",
    "version": 3
   },
   "file_extension": ".py",
   "mimetype": "text/x-python",
   "name": "python",
   "nbconvert_exporter": "python",
   "pygments_lexer": "ipython3",
   "version": "3.7.0"
  }
 },
 "nbformat": 4,
 "nbformat_minor": 1
}
